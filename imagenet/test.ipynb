{
 "cells": [
  {
   "cell_type": "code",
   "execution_count": 1,
   "metadata": {},
   "outputs": [],
   "source": [
    "import os\n",
    "import json"
   ]
  },
  {
   "cell_type": "code",
   "execution_count": 16,
   "metadata": {},
   "outputs": [
    {
     "data": {
      "text/plain": [
       "('/root/DPCore/imagenet/robustbench/data/jpeg_files.txt', 50000)"
      ]
     },
     "execution_count": 16,
     "metadata": {},
     "output_type": "execute_result"
    }
   ],
   "source": [
    "import os\n",
    "\n",
    "# Path to the folder ImageNet-C/brightness/5\n",
    "path = '/root/autodl-tmp/data/ImageNet-C/brightness/5'\n",
    "\n",
    "# List to store all JPEG file names\n",
    "jpeg_files = []\n",
    "\n",
    "# Traverse the directory structure\n",
    "for root, dirs, files in os.walk(path):\n",
    "    for file in files:\n",
    "        if (file.endswith('.JPG') or file.endswith('.JPEG')) and not file.startswith('._'):\n",
    "            # Extract the class subfolder and file name\n",
    "            class_folder = os.path.basename(root)  # Get the class subfolder (last part of the root)\n",
    "            jpeg_files.append(f\"{class_folder}/{file}\")  # Append in the desired format\n",
    "\n",
    "# Print all the JPEG file names\n",
    "# for file in jpeg_files:\n",
    "#     print(file)\n",
    "\n",
    "# Save the JPEG file names in a text file\n",
    "output_file = '/root/DPCore/imagenet/robustbench/data/jpeg_files.txt'\n",
    "\n",
    "with open(output_file, 'w') as f:\n",
    "    for file in jpeg_files:\n",
    "        f.write(f\"{file}\\n\")\n",
    "\n",
    "# Confirm file saved\n",
    "output_file, len(jpeg_files)\n",
    "\n",
    "\n"
   ]
  },
  {
   "cell_type": "code",
   "execution_count": 2,
   "metadata": {},
   "outputs": [
    {
     "name": "stdout",
     "output_type": "stream",
     "text": [
      "0\n",
      "1\n",
      "2\n",
      "3\n",
      "4\n",
      "5\n",
      "6\n",
      "7\n",
      "8\n",
      "9\n"
     ]
    }
   ],
   "source": [
    "for i in range(10):\n",
    "    print(i)"
   ]
  },
  {
   "cell_type": "code",
   "execution_count": null,
   "metadata": {},
   "outputs": [],
   "source": []
  },
  {
   "cell_type": "code",
   "execution_count": 6,
   "metadata": {},
   "outputs": [],
   "source": [
    "root = \"/root/autodl-tmp/data/imagenetc/brightness/5\"\n",
    "\n",
    "def make_custom_dataset(root, path_imgs, cls_dict):\n",
    "    with open(path_imgs, 'r') as f:\n",
    "        fnames = f.readlines()\n",
    "    with open(cls_dict, 'r') as f:\n",
    "        class_to_idx = json.load(f)\n",
    "    images = [(os.path.join(root, c.split('\\n')[0]), class_to_idx[c.split('/')[0]]) for c in fnames]\n",
    "\n",
    "    return images\n",
    "    \n",
    "\n",
    "samples = make_custom_dataset(root, 'robustbench/data/imagenet_test_image_ids.txt',\n",
    "                                      'robustbench/data/imagenet_class_to_id_map.json')"
   ]
  },
  {
   "cell_type": "code",
   "execution_count": 11,
   "metadata": {},
   "outputs": [
    {
     "name": "stdout",
     "output_type": "stream",
     "text": [
      "5000\n"
     ]
    }
   ],
   "source": [
    "exists_count = 0\n",
    "for file_path in samples:\n",
    "    # print(file_path)\n",
    "    if os.path.exists(file_path[0]):\n",
    "        exists_count += 1\n",
    "    else:\n",
    "        pass\n",
    "\n",
    "print(exists_count)\n"
   ]
  }
 ],
 "metadata": {
  "kernelspec": {
   "display_name": "base",
   "language": "python",
   "name": "python3"
  },
  "language_info": {
   "codemirror_mode": {
    "name": "ipython",
    "version": 3
   },
   "file_extension": ".py",
   "mimetype": "text/x-python",
   "name": "python",
   "nbconvert_exporter": "python",
   "pygments_lexer": "ipython3",
   "version": "3.8.10"
  }
 },
 "nbformat": 4,
 "nbformat_minor": 2
}
